{
 "cells": [
  {
   "cell_type": "code",
   "execution_count": 15,
   "id": "electrical-breach",
   "metadata": {},
   "outputs": [],
   "source": [
    "from transformers import DistilBertTokenizer, DistilBertForMaskedLM\n",
    "from transformers import DistilBertForQuestionAnswering\n",
    "from transformers import DistilBertConfig\n",
    "from transformers import BertForSequenceClassification\n",
    "import torch\n",
    "\n",
    "tokenizer = DistilBertTokenizer.from_pretrained('distilbert-base-uncased')\n",
    "model = DistilBertForMaskedLM.from_pretrained('distilbert-base-uncased')\n",
    "\n",
    "inputs = tokenizer(\"The capital of France is [MASK].\", return_tensors=\"pt\")\n",
    "labels = tokenizer(\"The capital of France is Paris.\", return_tensors=\"pt\")[\"input_ids\"]\n",
    "\n",
    "outputs = model(**inputs, labels=labels)\n",
    "loss = outputs.loss\n",
    "logits = outputs.logits"
   ]
  },
  {
   "cell_type": "code",
   "execution_count": 2,
   "id": "potential-phone",
   "metadata": {},
   "outputs": [
    {
     "data": {
      "text/plain": [
       "tensor(3.7931, grad_fn=<NllLossBackward>)"
      ]
     },
     "execution_count": 2,
     "metadata": {},
     "output_type": "execute_result"
    }
   ],
   "source": [
    "loss\n"
   ]
  },
  {
   "cell_type": "code",
   "execution_count": 3,
   "id": "assigned-seventh",
   "metadata": {},
   "outputs": [
    {
     "data": {
      "text/plain": [
       "tensor([[[ -5.4885,  -5.4923,  -5.5315,  ...,  -4.8746,  -4.7521,  -2.8670],\n",
       "         [-13.7576, -14.1974, -13.9020,  ..., -11.3393, -10.9795, -13.7729],\n",
       "         [ -8.2660,  -8.8192,  -8.5549,  ...,  -7.4754,  -6.4735, -11.5095],\n",
       "         ...,\n",
       "         [ -3.5587,  -3.8016,  -3.4940,  ...,  -2.6647,  -3.3341,  -3.5946],\n",
       "         [-10.0687,  -9.9196, -10.1045,  ...,  -8.7639,  -8.8426,  -5.2510],\n",
       "         [-11.0465, -11.2401, -11.2284,  ..., -10.2046, -10.4142,  -6.8991]]],\n",
       "       grad_fn=<AddBackward0>)"
      ]
     },
     "execution_count": 3,
     "metadata": {},
     "output_type": "execute_result"
    }
   ],
   "source": [
    "logits"
   ]
  },
  {
   "cell_type": "code",
   "execution_count": 4,
   "id": "suited-interstate",
   "metadata": {},
   "outputs": [
    {
     "data": {
      "text/plain": [
       "{'input_ids': tensor([[ 101, 1996, 3007, 1997, 2605, 2003,  103, 1012,  102]]), 'attention_mask': tensor([[1, 1, 1, 1, 1, 1, 1, 1, 1]])}"
      ]
     },
     "execution_count": 4,
     "metadata": {},
     "output_type": "execute_result"
    }
   ],
   "source": [
    "tokenizer(\"The capital of France is [MASK].\", return_tensors=\"pt\")"
   ]
  },
  {
   "cell_type": "code",
   "execution_count": 18,
   "id": "basic-government",
   "metadata": {},
   "outputs": [
    {
     "name": "stderr",
     "output_type": "stream",
     "text": [
      "Some weights of the model checkpoint at distilbert-base-uncased were not used when initializing DistilBertForQuestionAnswering: ['vocab_transform.weight', 'vocab_transform.bias', 'vocab_layer_norm.weight', 'vocab_layer_norm.bias', 'vocab_projector.weight', 'vocab_projector.bias']\n",
      "- This IS expected if you are initializing DistilBertForQuestionAnswering from the checkpoint of a model trained on another task or with another architecture (e.g. initializing a BertForSequenceClassification model from a BertForPreTraining model).\n",
      "- This IS NOT expected if you are initializing DistilBertForQuestionAnswering from the checkpoint of a model that you expect to be exactly identical (initializing a BertForSequenceClassification model from a BertForSequenceClassification model).\n",
      "Some weights of DistilBertForQuestionAnswering were not initialized from the model checkpoint at distilbert-base-uncased and are newly initialized: ['qa_outputs.weight', 'qa_outputs.bias']\n",
      "You should probably TRAIN this model on a down-stream task to be able to use it for predictions and inference.\n"
     ]
    }
   ],
   "source": [
    "model = DistilBertForQuestionAnswering.from_pretrained('distilbert-base-uncased')"
   ]
  },
  {
   "cell_type": "code",
   "execution_count": null,
   "id": "medieval-instrumentation",
   "metadata": {},
   "outputs": [],
   "source": [
    "model = BertForSequenceClassification.from_pretrained('distilbert-base-uncased')"
   ]
  },
  {
   "cell_type": "code",
   "execution_count": 70,
   "id": "thorough-twenty",
   "metadata": {},
   "outputs": [
    {
     "name": "stdout",
     "output_type": "stream",
     "text": [
      "bert.distilbert.embeddings.word_embeddings.weight\n",
      "bert.distilbert.embeddings.position_embeddings.weight\n",
      "bert.distilbert.embeddings.LayerNorm.weight\n",
      "bert.distilbert.embeddings.LayerNorm.bias\n",
      "bert.distilbert.transformer.layer.0.attention.q_lin.weight\n",
      "bert.distilbert.transformer.layer.0.attention.q_lin.bias\n",
      "bert.distilbert.transformer.layer.0.attention.k_lin.weight\n",
      "bert.distilbert.transformer.layer.0.attention.k_lin.bias\n",
      "bert.distilbert.transformer.layer.0.attention.v_lin.weight\n",
      "bert.distilbert.transformer.layer.0.attention.v_lin.bias\n",
      "bert.distilbert.transformer.layer.0.attention.out_lin.weight\n",
      "bert.distilbert.transformer.layer.0.attention.out_lin.bias\n",
      "bert.distilbert.transformer.layer.0.sa_layer_norm.weight\n",
      "bert.distilbert.transformer.layer.0.sa_layer_norm.bias\n",
      "bert.distilbert.transformer.layer.0.ffn.lin1.weight\n",
      "bert.distilbert.transformer.layer.0.ffn.lin1.bias\n",
      "bert.distilbert.transformer.layer.0.ffn.lin2.weight\n",
      "bert.distilbert.transformer.layer.0.ffn.lin2.bias\n",
      "bert.distilbert.transformer.layer.1.attention.q_lin.weight\n",
      "bert.distilbert.transformer.layer.1.attention.q_lin.bias\n",
      "bert.distilbert.transformer.layer.1.attention.k_lin.weight\n",
      "bert.distilbert.transformer.layer.1.attention.k_lin.bias\n",
      "bert.distilbert.transformer.layer.1.attention.v_lin.weight\n",
      "bert.distilbert.transformer.layer.1.attention.v_lin.bias\n",
      "bert.distilbert.transformer.layer.1.attention.out_lin.weight\n",
      "bert.distilbert.transformer.layer.1.attention.out_lin.bias\n",
      "bert.distilbert.transformer.layer.1.sa_layer_norm.weight\n",
      "bert.distilbert.transformer.layer.1.sa_layer_norm.bias\n",
      "bert.distilbert.transformer.layer.1.ffn.lin1.weight\n",
      "bert.distilbert.transformer.layer.1.ffn.lin1.bias\n",
      "bert.distilbert.transformer.layer.1.ffn.lin2.weight\n",
      "bert.distilbert.transformer.layer.1.ffn.lin2.bias\n",
      "bert.distilbert.transformer.layer.2.attention.q_lin.weight\n",
      "bert.distilbert.transformer.layer.2.attention.q_lin.bias\n",
      "bert.distilbert.transformer.layer.2.attention.k_lin.weight\n",
      "bert.distilbert.transformer.layer.2.attention.k_lin.bias\n",
      "bert.distilbert.transformer.layer.2.attention.v_lin.weight\n",
      "bert.distilbert.transformer.layer.2.attention.v_lin.bias\n",
      "bert.distilbert.transformer.layer.2.attention.out_lin.weight\n",
      "bert.distilbert.transformer.layer.2.attention.out_lin.bias\n",
      "bert.distilbert.transformer.layer.2.sa_layer_norm.weight\n",
      "bert.distilbert.transformer.layer.2.sa_layer_norm.bias\n",
      "bert.distilbert.transformer.layer.2.ffn.lin1.weight\n",
      "bert.distilbert.transformer.layer.2.ffn.lin1.bias\n",
      "bert.distilbert.transformer.layer.2.ffn.lin2.weight\n",
      "bert.distilbert.transformer.layer.2.ffn.lin2.bias\n",
      "bert.distilbert.transformer.layer.3.attention.q_lin.weight\n",
      "bert.distilbert.transformer.layer.3.attention.q_lin.bias\n",
      "bert.distilbert.transformer.layer.3.attention.k_lin.weight\n",
      "bert.distilbert.transformer.layer.3.attention.k_lin.bias\n",
      "bert.distilbert.transformer.layer.3.attention.v_lin.weight\n",
      "bert.distilbert.transformer.layer.3.attention.v_lin.bias\n",
      "bert.distilbert.transformer.layer.3.attention.out_lin.weight\n",
      "bert.distilbert.transformer.layer.3.attention.out_lin.bias\n",
      "bert.distilbert.transformer.layer.3.sa_layer_norm.weight\n",
      "bert.distilbert.transformer.layer.3.sa_layer_norm.bias\n",
      "bert.distilbert.transformer.layer.3.ffn.lin1.weight\n",
      "bert.distilbert.transformer.layer.3.ffn.lin1.bias\n",
      "bert.distilbert.transformer.layer.3.ffn.lin2.weight\n",
      "bert.distilbert.transformer.layer.3.ffn.lin2.bias\n",
      "bert.distilbert.transformer.layer.4.attention.q_lin.weight\n",
      "bert.distilbert.transformer.layer.4.attention.q_lin.bias\n",
      "bert.distilbert.transformer.layer.4.attention.k_lin.weight\n",
      "bert.distilbert.transformer.layer.4.attention.k_lin.bias\n",
      "bert.distilbert.transformer.layer.4.attention.v_lin.weight\n",
      "bert.distilbert.transformer.layer.4.attention.v_lin.bias\n",
      "bert.distilbert.transformer.layer.4.attention.out_lin.weight\n",
      "bert.distilbert.transformer.layer.4.attention.out_lin.bias\n",
      "bert.distilbert.transformer.layer.4.sa_layer_norm.weight\n",
      "bert.distilbert.transformer.layer.4.sa_layer_norm.bias\n",
      "bert.distilbert.transformer.layer.4.ffn.lin1.weight\n",
      "bert.distilbert.transformer.layer.4.ffn.lin1.bias\n",
      "bert.distilbert.transformer.layer.4.ffn.lin2.weight\n",
      "bert.distilbert.transformer.layer.4.ffn.lin2.bias\n",
      "bert.distilbert.transformer.layer.5.attention.q_lin.weight\n",
      "bert.distilbert.transformer.layer.5.attention.q_lin.bias\n",
      "bert.distilbert.transformer.layer.5.attention.k_lin.weight\n",
      "bert.distilbert.transformer.layer.5.attention.k_lin.bias\n",
      "bert.distilbert.transformer.layer.5.attention.v_lin.weight\n",
      "bert.distilbert.transformer.layer.5.attention.v_lin.bias\n",
      "bert.distilbert.transformer.layer.5.attention.out_lin.weight\n",
      "bert.distilbert.transformer.layer.5.attention.out_lin.bias\n",
      "bert.distilbert.transformer.layer.5.sa_layer_norm.weight\n",
      "bert.distilbert.transformer.layer.5.sa_layer_norm.bias\n",
      "bert.distilbert.transformer.layer.5.ffn.lin1.weight\n",
      "bert.distilbert.transformer.layer.5.ffn.lin1.bias\n",
      "bert.distilbert.transformer.layer.5.ffn.lin2.weight\n",
      "bert.distilbert.transformer.layer.5.ffn.lin2.bias\n"
     ]
    }
   ],
   "source": [
    "for name, param in model.named_parameters():\n",
    "    if ('output' not in name) and ('discriminator' not in name):\n",
    "#         param.requires_grad = False\n",
    "        print(name)"
   ]
  },
  {
   "cell_type": "code",
   "execution_count": 23,
   "id": "concrete-tourism",
   "metadata": {},
   "outputs": [
    {
     "ename": "TypeError",
     "evalue": "'generator' object is not subscriptable",
     "output_type": "error",
     "traceback": [
      "\u001b[0;31m---------------------------------------------------------------------------\u001b[0m",
      "\u001b[0;31mTypeError\u001b[0m                                 Traceback (most recent call last)",
      "\u001b[0;32m<ipython-input-23-02a47d7b6c60>\u001b[0m in \u001b[0;36m<module>\u001b[0;34m\u001b[0m\n\u001b[0;32m----> 1\u001b[0;31m \u001b[0mmodel\u001b[0m\u001b[0;34m.\u001b[0m\u001b[0mnamed_parameters\u001b[0m\u001b[0;34m(\u001b[0m\u001b[0;34m)\u001b[0m\u001b[0;34m[\u001b[0m\u001b[0;36m1\u001b[0m\u001b[0;34m]\u001b[0m\u001b[0;34m\u001b[0m\u001b[0;34m\u001b[0m\u001b[0m\n\u001b[0m",
      "\u001b[0;31mTypeError\u001b[0m: 'generator' object is not subscriptable"
     ]
    }
   ],
   "source": [
    "model.named_parameters()"
   ]
  },
  {
   "cell_type": "code",
   "execution_count": 31,
   "id": "continent-portable",
   "metadata": {},
   "outputs": [],
   "source": [
    "model = torch.load('/home/zhanj289/robust_qa/save/adv_train-08-finetuning/checkpoint/pytorch_model.bin', map_location=torch.device('cpu'))"
   ]
  },
  {
   "cell_type": "code",
   "execution_count": null,
   "id": "blond-amplifier",
   "metadata": {},
   "outputs": [],
   "source": []
  },
  {
   "cell_type": "code",
   "execution_count": null,
   "id": "general-calcium",
   "metadata": {},
   "outputs": [],
   "source": [
    "for name, param in model.named_parameters():\n",
    "    print(name)"
   ]
  },
  {
   "cell_type": "code",
   "execution_count": 51,
   "id": "independent-homeless",
   "metadata": {},
   "outputs": [],
   "source": [
    "import torch\n",
    "import torch.nn as nn\n",
    "import torch.nn.functional as F\n",
    "# from pytorch_pretrained_bert import B\n",
    "from collections import OrderedDict\n",
    "hidden_layers = []\n",
    "\n",
    "input_dim = 700\n",
    "hidden_layers.append(nn.Sequential(OrderedDict([   \n",
    "    ('linear', nn.Linear(200, 300)),\n",
    "    ('relu', nn.ReLU()), \n",
    "    ('drop', nn.Dropout(0.1))\n",
    "])))\n",
    "hidden_layers.append(nn.Sequential(OrderedDict([  ('output', nn.Linear(300, 3))])))\n",
    "hidden_layers = nn.ModuleList(hidden_layers)"
   ]
  },
  {
   "cell_type": "code",
   "execution_count": 52,
   "id": "heated-gregory",
   "metadata": {},
   "outputs": [
    {
     "data": {
      "text/plain": [
       "ModuleList(\n",
       "  (0): Sequential(\n",
       "    (linear): Linear(in_features=200, out_features=300, bias=True)\n",
       "    (relu): ReLU()\n",
       "    (drop): Dropout(p=0.1, inplace=False)\n",
       "  )\n",
       "  (1): Sequential(\n",
       "    (output): Linear(in_features=300, out_features=3, bias=True)\n",
       "  )\n",
       ")"
      ]
     },
     "execution_count": 52,
     "metadata": {},
     "output_type": "execute_result"
    }
   ],
   "source": [
    "hidden_layers"
   ]
  },
  {
   "cell_type": "code",
   "execution_count": 71,
   "id": "stunning-cartoon",
   "metadata": {},
   "outputs": [],
   "source": [
    "\n",
    "tokenizer = DistilBertTokenizer.from_pretrained('distilbert-base-uncased')\n",
    "model = DistilBertForMaskedLM.from_pretrained('distilbert-base-uncased')\n",
    "\n",
    "inputs = tokenizer(\"The capital of France is [MASK].\", return_tensors=\"pt\")\n",
    "labels = tokenizer(\"The capital of France is Paris.\", return_tensors=\"pt\")[\"input_ids\"]\n",
    "\n",
    "outputs = model(**inputs, labels=labels)\n",
    "loss = outputs.loss\n",
    "logits = outputs.logits"
   ]
  },
  {
   "cell_type": "code",
   "execution_count": 74,
   "id": "certified-pierce",
   "metadata": {},
   "outputs": [
    {
     "data": {
      "text/plain": [
       "{'loss': tensor(3.7931, grad_fn=<NllLossBackward>),\n",
       " 'logits': tensor([[[ -5.4885,  -5.4923,  -5.5315,  ...,  -4.8746,  -4.7521,  -2.8670],\n",
       "          [-13.7576, -14.1974, -13.9020,  ..., -11.3393, -10.9795, -13.7729],\n",
       "          [ -8.2660,  -8.8192,  -8.5549,  ...,  -7.4754,  -6.4735, -11.5095],\n",
       "          ...,\n",
       "          [ -3.5587,  -3.8016,  -3.4940,  ...,  -2.6647,  -3.3341,  -3.5946],\n",
       "          [-10.0687,  -9.9196, -10.1045,  ...,  -8.7639,  -8.8426,  -5.2510],\n",
       "          [-11.0465, -11.2401, -11.2284,  ..., -10.2046, -10.4142,  -6.8991]]],\n",
       "        grad_fn=<AddBackward0>),\n",
       " 'hidden_states': None,\n",
       " 'attentions': None}"
      ]
     },
     "execution_count": 74,
     "metadata": {},
     "output_type": "execute_result"
    }
   ],
   "source": [
    "outputs.__dict__"
   ]
  },
  {
   "cell_type": "code",
   "execution_count": 73,
   "id": "handled-visitor",
   "metadata": {},
   "outputs": [
    {
     "data": {
      "text/plain": [
       "tensor([[ 101, 1996, 3007, 1997, 2605, 2003, 3000, 1012,  102]])"
      ]
     },
     "execution_count": 73,
     "metadata": {},
     "output_type": "execute_result"
    }
   ],
   "source": [
    "labels"
   ]
  },
  {
   "cell_type": "code",
   "execution_count": null,
   "id": "detailed-following",
   "metadata": {},
   "outputs": [],
   "source": []
  }
 ],
 "metadata": {
  "kernelspec": {
   "display_name": "robustqa",
   "language": "python",
   "name": "robustqa"
  },
  "language_info": {
   "codemirror_mode": {
    "name": "ipython",
    "version": 3
   },
   "file_extension": ".py",
   "mimetype": "text/x-python",
   "name": "python",
   "nbconvert_exporter": "python",
   "pygments_lexer": "ipython3",
   "version": "3.6.8"
  }
 },
 "nbformat": 4,
 "nbformat_minor": 5
}
